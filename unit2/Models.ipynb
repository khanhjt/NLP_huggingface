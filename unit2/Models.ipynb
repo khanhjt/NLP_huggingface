{
  "nbformat": 4,
  "nbformat_minor": 0,
  "metadata": {
    "colab": {
      "provenance": [],
      "gpuType": "T4"
    },
    "kernelspec": {
      "name": "python3",
      "display_name": "Python 3"
    },
    "language_info": {
      "name": "python"
    },
    "accelerator": "GPU"
  },
  "cells": [
    {
      "cell_type": "markdown",
      "source": [
        "CÁC MÔ HÌNH\n",
        "\n",
        "Sử dụng AutoModel để khởi tạo bất kỳ từ 1 checkpoint\n",
        "\n",
        "- Tạo ra một Transformer\n",
        "\n",
        "Đầu tiên cần khởi tạo mô hình BERT\n"
      ],
      "metadata": {
        "id": "q7SPnA2E5LNJ"
      }
    },
    {
      "cell_type": "code",
      "execution_count": 1,
      "metadata": {
        "id": "uQX5ZN5q5EXz"
      },
      "outputs": [],
      "source": [
        "from transformers import BertConfig, BertModel\n",
        "\n",
        "# Building the config\n",
        "config = BertConfig()\n",
        "\n",
        "# Building the model from the config\n",
        "model = BertModel(config)"
      ]
    },
    {
      "cell_type": "code",
      "source": [
        "print(config)"
      ],
      "metadata": {
        "colab": {
          "base_uri": "https://localhost:8080/"
        },
        "id": "aG-URy8J5iVc",
        "outputId": "d9cf35ff-c2a7-4443-8cd9-0cb94fdc93b1"
      },
      "execution_count": 2,
      "outputs": [
        {
          "output_type": "stream",
          "name": "stdout",
          "text": [
            "BertConfig {\n",
            "  \"attention_probs_dropout_prob\": 0.1,\n",
            "  \"classifier_dropout\": null,\n",
            "  \"hidden_act\": \"gelu\",\n",
            "  \"hidden_dropout_prob\": 0.1,\n",
            "  \"hidden_size\": 768,\n",
            "  \"initializer_range\": 0.02,\n",
            "  \"intermediate_size\": 3072,\n",
            "  \"layer_norm_eps\": 1e-12,\n",
            "  \"max_position_embeddings\": 512,\n",
            "  \"model_type\": \"bert\",\n",
            "  \"num_attention_heads\": 12,\n",
            "  \"num_hidden_layers\": 12,\n",
            "  \"pad_token_id\": 0,\n",
            "  \"position_embedding_type\": \"absolute\",\n",
            "  \"transformers_version\": \"4.38.2\",\n",
            "  \"type_vocab_size\": 2,\n",
            "  \"use_cache\": true,\n",
            "  \"vocab_size\": 30522\n",
            "}\n",
            "\n"
          ]
        }
      ]
    },
    {
      "cell_type": "markdown",
      "source": [
        "- Các phương pháp load khác\n",
        "\n",
        "Việc tạo mô hình từ cấu hình mặc định sẽ khởi tạo mô hình đó với giá trị ngẫu nhiên"
      ],
      "metadata": {
        "id": "p0UYbUgY50w7"
      }
    },
    {
      "cell_type": "code",
      "source": [
        "from transformers import BertConfig, BertModel\n",
        "\n",
        "config = BertConfig()\n",
        "model = BertModel(config)\n",
        "\n",
        "# Model is randomly initialized!"
      ],
      "metadata": {
        "id": "QfD-DTbW5n8r"
      },
      "execution_count": 3,
      "outputs": []
    },
    {
      "cell_type": "markdown",
      "source": [
        "Tải model có sẵn sử dụng from_pretrain()"
      ],
      "metadata": {
        "id": "LIlx1HRm6Vdw"
      }
    },
    {
      "cell_type": "code",
      "source": [
        "from transformers import BertModel\n",
        "\n",
        "model = BertModel.from_pretrained(\"bert-base-cased\")"
      ],
      "metadata": {
        "id": "vdSdSrcO6geP"
      },
      "execution_count": null,
      "outputs": []
    },
    {
      "cell_type": "markdown",
      "source": [
        "PHƯƠNG PHÁP LƯU TRỮ CHECKPOINT\n"
      ],
      "metadata": {
        "id": "F3sHYTl_6lPc"
      }
    },
    {
      "cell_type": "code",
      "source": [
        "model.save_pretrained(\"directory_on_my_computer\")"
      ],
      "metadata": {
        "id": "cOLwYfBL7Wfu"
      },
      "execution_count": null,
      "outputs": []
    },
    {
      "cell_type": "markdown",
      "source": [
        "ls directory_on_my_computer\n",
        "\n",
        "config.json pytorch_model.bin\n",
        "\n",
        "lưu 2 tệp vào ổ đĩa"
      ],
      "metadata": {
        "id": "hK5ikyvO7gig"
      }
    },
    {
      "cell_type": "markdown",
      "source": [
        "Tệp config.json gồm các thuộc tính để xây dựng kiến trúc mô hình.\n",
        "\n",
        "Tệp pytorch_model.bin là *state dictionary*(*từ điển trạng thái*), nó chứa các trọng số của mô hình."
      ],
      "metadata": {
        "id": "pfGmIVBW7o5w"
      }
    },
    {
      "cell_type": "markdown",
      "source": [
        "Dùng Transformers để suy luận\n",
        "\n",
        "Các mô hình transformer chỉ có thể xử lý số - các số mà tokenizer tạo ra.\n",
        "\n",
        "Tokenizer có thể đảm nhận việc truyền các đầu vào đến các tensor của khung thích hợp\n",
        "\n",
        "Giả sử ta có chuỗi:\n"
      ],
      "metadata": {
        "id": "tfmukmNB8iLi"
      }
    },
    {
      "cell_type": "code",
      "source": [
        "sequences = [\"Hello!\", \"Cool.\", \"Nice!\"]"
      ],
      "metadata": {
        "id": "v3_4-r0q9Iqb"
      },
      "execution_count": null,
      "outputs": []
    },
    {
      "cell_type": "markdown",
      "source": [
        "Tokenizer chuyển đổi các chỉ số này thành các chỉ mục từ vựng(ID đầu vào), mỗi chuỗi sẽ trở thành danh sách các số."
      ],
      "metadata": {
        "id": "wJjL0lIZ9LEH"
      }
    },
    {
      "cell_type": "code",
      "source": [
        "encoded_sequences = [\n",
        "    [101, 7592, 999, 102],\n",
        "    [101, 4658, 1012, 102],\n",
        "    [101, 3835, 999, 102],\n",
        "]"
      ],
      "metadata": {
        "id": "BP41ggTB9bOz"
      },
      "execution_count": null,
      "outputs": []
    },
    {
      "cell_type": "markdown",
      "source": [
        "Chuỗi sau khi đc mã hóa cần biến nó thành các tensor."
      ],
      "metadata": {
        "id": "uid-hMEx9efv"
      }
    },
    {
      "cell_type": "code",
      "source": [
        "import torch\n",
        "\n",
        "model_inputs = torch.tensor(encoded_sequences)"
      ],
      "metadata": {
        "id": "z9_T_lkv9uTN"
      },
      "execution_count": null,
      "outputs": []
    },
    {
      "cell_type": "markdown",
      "source": [
        "SỬ DỤNG TENSOR làm input"
      ],
      "metadata": {
        "id": "pCbSlWvl9qw9"
      }
    },
    {
      "cell_type": "code",
      "source": [
        "output = model(model_inputs)"
      ],
      "metadata": {
        "id": "qWWKe09G9eM_"
      },
      "execution_count": null,
      "outputs": []
    }
  ]
}