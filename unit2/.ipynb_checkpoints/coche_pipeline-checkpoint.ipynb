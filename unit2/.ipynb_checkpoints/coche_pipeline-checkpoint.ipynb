{
 "cells": [
  {
   "cell_type": "markdown",
   "metadata": {},
   "source": [
    "# CƠ CHẾ HOẠT ĐỘNG CỦA PIPELINE"
   ]
  },
  {
   "cell_type": "code",
   "execution_count": null,
   "metadata": {},
   "outputs": [],
   "source": [
    "from transformers import pipeline\n",
    "\n",
    "classifier = pipeline(\"sentiment-analysis\")\n",
    "classifier(\n",
    "    [\n",
    "        \"I've been waiting for a HuggingFace course my whole life.\",\n",
    "        \"I hate this so much!\",\n",
    "    ]\n",
    ") "
   ]
  },
  {
   "cell_type": "markdown",
   "metadata": {},
   "source": [
    "cho output là :\n"
   ]
  },
  {
   "cell_type": "code",
   "execution_count": null,
   "metadata": {},
   "outputs": [],
   "source": [
    "[{'label': 'POSITIVE', 'score': 0.9598047137260437},\n",
    " {'label': 'NEGATIVE', 'score': 0.9994558095932007}]"
   ]
  },
  {
   "cell_type": "markdown",
   "metadata": {},
   "source": [
    "PIPELINE gồm 3 bước : tiền xử lý, đưa các đầu vào qua mô  hình và hậu xử lý."
   ]
  },
  {
   "cell_type": "markdown",
   "metadata": {},
   "source": [
    "![](https://huggingface.co/datasets/huggingface-course/documentation-images/resolve/main/en/chapter2/full_nlp_pipeline-dark.svg)"
   ]
  },
  {
   "cell_type": "markdown",
   "metadata": {},
   "source": [
    "## BƯỚC 1: Tiền xử lý với một tokenizer\n",
    "\n",
    "Đầu tiên chuyển đầu vào văn bản thành dạng số để mô hình hiểu, để làm điều này ta dùng tokenizer:\n",
    "\n",
    "        - Tách đầu vào thành các từ, từ phụ, hoặc ký hiệu đc gọi là tokens.\n",
    "        - Ánh xạ mỗi token thành một số nguyên\n",
    "        -Thêm đầu vào bổ sung có thể hữu ích cho mô hình.\n",
    "\n",
    "Ta cần xử lý giống như khi mô hình đc huấn luyện trước, có thể sử dụng lớp AutoTokenizer và phương thức from_pretrained(). Sử dụng checkpoint của mô hình , nó sẽ tự tìm nạp dữ liệu được liên kết với tokenizer của mô hình và lưu cache.(chỉ tải ở lần chạy đầu tiên).\n",
    "\n",
    "Checkpoint mặc định của sentiment-analysis là distilbert-base-unsased-finetuned-...."
   ]
  },
  {
   "cell_type": "code",
   "execution_count": null,
   "metadata": {},
   "outputs": [],
   "source": [
    "from transformers import AutoTokenizer\n",
    "\n",
    "checkpoint = \"distilbert-base-uncased-finetuned-sst-2-english\"\n",
    "tokenizer = AutoTokenizer.from_pretrained(checkpoint)"
   ]
  },
  {
   "cell_type": "markdown",
   "metadata": {},
   "source": [
    "Khi có tokenizer, ta có thể truyển trực tiếp các câu của mình  vào bên trong và nhận lại một từ điển đã sẵn sàng để cung cấp cho mô hình. Chuyển các ID đầu vào thành tensor.\n",
    "\n",
    "Các mô hình transformers chỉ nhân tensor là đầu vào\n",
    "\n",
    "Để chỉ định loại tensor trả về , dùng return_tensors:"
   ]
  },
  {
   "cell_type": "code",
   "execution_count": null,
   "metadata": {},
   "outputs": [],
   "source": [
    "raw_inputs = [\n",
    "    \"I've been waiting for a HuggingFace course my whole life.\",\n",
    "    \"I hate this so much!\",\n",
    "]\n",
    "inputs = tokenizer(raw_inputs, padding=True, truncation=True, return_tensors=\"pt\")\n",
    "print(inputs)"
   ]
  },
  {
   "cell_type": "markdown",
   "metadata": {},
   "source": [
    "Bạn có thể chuyển một câ thành danh sách các câu nhỏ, chỉ định các loại tensors mình muốn nếu ko nó sẽ trả kết quả là một danh sách\n",
    " \n",
    " \n",
    "tensor Pytorch:"
   ]
  },
  {
   "cell_type": "code",
   "execution_count": null,
   "metadata": {},
   "outputs": [],
   "source": [
    "{\n",
    "    'input_ids': tensor([\n",
    "        [  101,  1045,  1005,  2310,  2042,  3403,  2005,  1037, 17662, 12172, 2607,  2026,  2878,  2166,  1012,   102],\n",
    "        [  101,  1045,  5223,  2023,  2061,  2172,   999,   102,     0,     0,     0,     0,     0,     0,     0,     0]\n",
    "    ]), \n",
    "    'attention_mask': tensor([\n",
    "        [1, 1, 1, 1, 1, 1, 1, 1, 1, 1, 1, 1, 1, 1, 1, 1],\n",
    "        [1, 1, 1, 1, 1, 1, 1, 0, 0, 0, 0, 0, 0, 0, 0, 0]\n",
    "    ])\n",
    "}"
   ]
  },
  {
   "cell_type": "markdown",
   "metadata": {},
   "source": []
  },
  {
   "cell_type": "markdown",
   "metadata": {},
   "source": [
    "## Tiếp theo là cho đầu ra đi qua Models\n",
    "\n",
    "Tải xuống mô hình đc huấn luyện trước.\n"
   ]
  },
  {
   "cell_type": "code",
   "execution_count": null,
   "metadata": {},
   "outputs": [],
   "source": [
    "from transformers import AutoModel\n",
    "\n",
    "checkpoint = \"distilbert-base-uncased-finetuned-sst-2-english\"\n",
    "model = AutoModel.from_pretrained(checkpoint)"
   ]
  },
  {
   "cell_type": "markdown",
   "metadata": {},
   "source": [
    "Kiến trúc này chứa modun Transformers cơ sở: với một số đầu vào nó xuất ra hidden states(đặc trưng). Mỗi đầu vào ta sẽ truy xuất một vector đa chiều đại diện cho sự hiểu theo ngữ cảnh của đầu vào đó bằng mô hình Transformers.\n",
    "\n",
    "\n"
   ]
  },
  {
   "cell_type": "markdown",
   "metadata": {},
   "source": [
    "### Vector đa chiều\n"
   ]
  },
  {
   "cell_type": "markdown",
   "metadata": {},
   "source": [
    "Đầu ra vector của modun Transformers thường lớn với 3 chiều:\n",
    "\n",
    "    - Batch size: Số chuỗi được xử lý tại 1 thời điểm.\n",
    "    - Độ dài chuỗi(shape): Độ dìa biểu diễn số vector của chuỗi.\n",
    "    - Kích thước ấn: Kích thước vector của mỗi đầu vào mô hình.\n",
    "\n",
    "Kích thước ẩn có thể rất lớn: 768 hoặc các mô hình lớn có thể đạt tới 3072)\n"
   ]
  },
  {
   "cell_type": "markdown",
   "metadata": {},
   "source": []
  },
  {
   "cell_type": "markdown",
   "metadata": {},
   "source": [
    "### Đầu mô hình\n",
    "\n",
    "Lấy vector đa chiều của các trạng thái ẩn làm đầu vào và chiếu chúng lên 1 chiều khác. Nó thường bao gồm 1 hoặc nhiều lớp tuyển tính.\n",
    "\n",
    "\n",
    "![](https://huggingface.co/datasets/huggingface-course/documentation-images/resolve/main/en/chapter2/transformer_and_head-dark.svg)"
   ]
  },
  {
   "cell_type": "markdown",
   "metadata": {},
   "source": [
    "Đầu ra của mô hình Transformer được gửi trực tiếp đến đầu mô hình để được xử lý.\n",
    "\n",
    "Ở trên, mô hình được biểu diễn bằng lớp nhúng của nó và các Layer tiếp theo. Lớp Embedding chuyển đổi mỗi ID trong đầu vào được mã hóa thành một vector đại diện cho token được liên kết. Các lớp tiếp theo thao tác với vector bằng cách sử dụng cơ chế Atten để tạo ra biểu diễn cuối cùng của các câu.\n",
    "\n",
    "Các kiến trúc trong Transformers:\n",
    "\n",
    "    - *Model (truy xuất các trạng thái ẩn)\n",
    "    - *ForCausalLM\n",
    "    - *ForMaskedLM\n",
    "    - *ForMultipleChoice\n",
    "    - *ForQuestionAnswering\n",
    "    - *ForSequenceClassification\n",
    "    - *ForTokenClassification\n",
    "and others 🤗"
   ]
  },
  {
   "cell_type": "markdown",
   "metadata": {},
   "source": [
    "Với ví dụ của mình, chúng ta sẽ cần một mô hình có đầu phân loại tuần tự (để có thể phân loại các câu là khẳng định hoặc phủ định). Vì vậy, ta sẽ không sử dụng lớp AutoModel mà là AutoModelForSequenceClassification:\n",
    "\n"
   ]
  },
  {
   "cell_type": "code",
   "execution_count": null,
   "metadata": {},
   "outputs": [],
   "source": [
    "from transformers import AutoModelForSequenceClassification\n",
    "\n",
    "checkpoint = \"distilbert-base-uncased-finetuned-sst-2-english\"\n",
    "model = AutoModelForSequenceClassification.from_pretrained(checkpoint)\n",
    "outputs = model(**inputs)"
   ]
  },
  {
   "cell_type": "markdown",
   "metadata": {},
   "source": [
    "Đầu mô hình lấy các vector đa chiều mà chúng ta thấy trước đây và xuất ra các vector có chứa 2 giá trị(mỗi giá trị là 1 nhãn)"
   ]
  },
  {
   "cell_type": "markdown",
   "metadata": {},
   "source": [
    "## Hậu xử lý"
   ]
  },
  {
   "cell_type": "code",
   "execution_count": null,
   "metadata": {},
   "outputs": [],
   "source": [
    "print(outputs.logits.shape)\n",
    "\n",
    "#ket qua\n",
    " \n",
    " \n",
    "torch.Size([2, 2])"
   ]
  },
  {
   "cell_type": "markdown",
   "metadata": {},
   "source": [
    "Vì chúng ta chỉ có hai câu và hai nhãn, kết quả nhận được từ mô hình của chúng ta là dạng 2 x 2.\n",
    "\n"
   ]
  }
 ],
 "metadata": {
  "language_info": {
   "name": "python"
  }
 },
 "nbformat": 4,
 "nbformat_minor": 2
}
