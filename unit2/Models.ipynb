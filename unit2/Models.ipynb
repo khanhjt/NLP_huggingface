{
  "cells": [
    {
      "cell_type": "markdown",
      "metadata": {
        "id": "q7SPnA2E5LNJ"
      },
      "source": [
        "# CÁC MÔ HÌNH(Models)\n",
        "\n",
        "Sử dụng AutoModel để khởi tạo bất kỳ từ 1 checkpoint\n",
        "\n",
        "## Tạo ra một Transformer\n",
        "\n",
        "Đầu tiên cần khởi tạo mô hình BERT\n"
      ]
    },
    {
      "cell_type": "code",
      "execution_count": 1,
      "metadata": {
        "id": "uQX5ZN5q5EXz"
      },
      "outputs": [],
      "source": [
        "from transformers import BertConfig, BertModel\n",
        "\n",
        "# Building the config\n",
        "config = BertConfig()\n",
        "\n",
        "# Building the model from the config\n",
        "model = BertModel(config)"
      ]
    },
    {
      "cell_type": "code",
      "execution_count": 2,
      "metadata": {
        "colab": {
          "base_uri": "https://localhost:8080/"
        },
        "id": "aG-URy8J5iVc",
        "outputId": "d9cf35ff-c2a7-4443-8cd9-0cb94fdc93b1"
      },
      "outputs": [
        {
          "name": "stdout",
          "output_type": "stream",
          "text": [
            "BertConfig {\n",
            "  \"attention_probs_dropout_prob\": 0.1,\n",
            "  \"classifier_dropout\": null,\n",
            "  \"hidden_act\": \"gelu\",\n",
            "  \"hidden_dropout_prob\": 0.1,\n",
            "  \"hidden_size\": 768,\n",
            "  \"initializer_range\": 0.02,\n",
            "  \"intermediate_size\": 3072,\n",
            "  \"layer_norm_eps\": 1e-12,\n",
            "  \"max_position_embeddings\": 512,\n",
            "  \"model_type\": \"bert\",\n",
            "  \"num_attention_heads\": 12,\n",
            "  \"num_hidden_layers\": 12,\n",
            "  \"pad_token_id\": 0,\n",
            "  \"position_embedding_type\": \"absolute\",\n",
            "  \"transformers_version\": \"4.38.2\",\n",
            "  \"type_vocab_size\": 2,\n",
            "  \"use_cache\": true,\n",
            "  \"vocab_size\": 30522\n",
            "}\n",
            "\n"
          ]
        }
      ],
      "source": [
        "print(config)"
      ]
    },
    {
      "cell_type": "markdown",
      "metadata": {
        "id": "p0UYbUgY50w7"
      },
      "source": [
        "### Các phương pháp load khác\n",
        "\n",
        "Việc tạo mô hình từ cấu hình mặc định sẽ khởi tạo mô hình đó với giá trị ngẫu nhiên"
      ]
    },
    {
      "cell_type": "code",
      "execution_count": 3,
      "metadata": {
        "id": "QfD-DTbW5n8r"
      },
      "outputs": [],
      "source": [
        "from transformers import BertConfig, BertModel\n",
        "\n",
        "config = BertConfig()\n",
        "model = BertModel(config)\n",
        "\n",
        "# Model is randomly initialized!"
      ]
    },
    {
      "cell_type": "markdown",
      "metadata": {
        "id": "LIlx1HRm6Vdw"
      },
      "source": [
        "Tải model có sẵn sử dụng from_pretrain()"
      ]
    },
    {
      "cell_type": "code",
      "execution_count": null,
      "metadata": {
        "id": "vdSdSrcO6geP"
      },
      "outputs": [],
      "source": [
        "from transformers import BertModel\n",
        "\n",
        "model = BertModel.from_pretrained(\"bert-base-cased\")"
      ]
    },
    {
      "cell_type": "markdown",
      "metadata": {
        "id": "F3sHYTl_6lPc"
      },
      "source": [
        "### Phương pháp lưu trữ checkpoint\n"
      ]
    },
    {
      "cell_type": "code",
      "execution_count": null,
      "metadata": {
        "id": "cOLwYfBL7Wfu"
      },
      "outputs": [],
      "source": [
        "model.save_pretrained(\"directory_on_my_computer\")"
      ]
    },
    {
      "cell_type": "markdown",
      "metadata": {
        "id": "hK5ikyvO7gig"
      },
      "source": [
        "ls directory_on_my_computer\n",
        "\n",
        "config.json pytorch_model.bin\n",
        "\n",
        "lưu 2 tệp vào ổ đĩa"
      ]
    },
    {
      "cell_type": "markdown",
      "metadata": {
        "id": "pfGmIVBW7o5w"
      },
      "source": [
        "Tệp config.json gồm các thuộc tính để xây dựng kiến trúc mô hình.\n",
        "\n",
        "Tệp pytorch_model.bin là *state dictionary*(*từ điển trạng thái*), nó chứa các trọng số của mô hình."
      ]
    },
    {
      "cell_type": "markdown",
      "metadata": {
        "id": "tfmukmNB8iLi"
      },
      "source": [
        "## Dùng Transformers để suy luận\n",
        "\n",
        "Các mô hình transformer chỉ có thể xử lý số - các số mà tokenizer tạo ra.\n",
        "\n",
        "Tokenizer có thể đảm nhận việc truyền các đầu vào đến các tensor của khung thích hợp\n",
        "\n",
        "Giả sử ta có chuỗi:\n"
      ]
    },
    {
      "cell_type": "code",
      "execution_count": null,
      "metadata": {
        "id": "v3_4-r0q9Iqb"
      },
      "outputs": [],
      "source": [
        "sequences = [\"Hello!\", \"Cool.\", \"Nice!\"]"
      ]
    },
    {
      "cell_type": "markdown",
      "metadata": {
        "id": "wJjL0lIZ9LEH"
      },
      "source": [
        "Tokenizer chuyển đổi các chỉ số này thành các chỉ mục từ vựng(ID đầu vào), mỗi chuỗi sẽ trở thành danh sách các số."
      ]
    },
    {
      "cell_type": "code",
      "execution_count": null,
      "metadata": {
        "id": "BP41ggTB9bOz"
      },
      "outputs": [],
      "source": [
        "encoded_sequences = [\n",
        "    [101, 7592, 999, 102],\n",
        "    [101, 4658, 1012, 102],\n",
        "    [101, 3835, 999, 102],\n",
        "]"
      ]
    },
    {
      "cell_type": "markdown",
      "metadata": {
        "id": "uid-hMEx9efv"
      },
      "source": [
        "Chuỗi sau khi đc mã hóa cần biến nó thành các tensor."
      ]
    },
    {
      "cell_type": "code",
      "execution_count": null,
      "metadata": {
        "id": "z9_T_lkv9uTN"
      },
      "outputs": [],
      "source": [
        "import torch\n",
        "\n",
        "model_inputs = torch.tensor(encoded_sequences)"
      ]
    },
    {
      "cell_type": "markdown",
      "metadata": {
        "id": "pCbSlWvl9qw9"
      },
      "source": [
        "### SỬ DỤNG TENSOR làm input"
      ]
    },
    {
      "cell_type": "code",
      "execution_count": null,
      "metadata": {
        "id": "qWWKe09G9eM_"
      },
      "outputs": [],
      "source": [
        "output = model(model_inputs)"
      ]
    }
  ],
  "metadata": {
    "accelerator": "GPU",
    "colab": {
      "gpuType": "T4",
      "provenance": []
    },
    "kernelspec": {
      "display_name": "Python 3",
      "name": "python3"
    },
    "language_info": {
      "name": "python"
    }
  },
  "nbformat": 4,
  "nbformat_minor": 0
}
