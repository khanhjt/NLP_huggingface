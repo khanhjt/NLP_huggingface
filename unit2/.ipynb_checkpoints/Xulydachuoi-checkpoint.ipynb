{
 "cells": [
  {
   "cell_type": "markdown",
   "id": "a1f16d15-af31-4304-8217-ee7863beeb3d",
   "metadata": {},
   "source": [
    "# Xử lý nhiều chuỗi\n",
    "\n",
    "- Làm cách nào để xử lý nhiều hơn 1 chuỗi\n",
    "- Nhiều chuỗi có độ dài khác nhau\n",
    "- Các ID có phải là đầu vào duy nhất\n",
    "- Một chuỗi quá dài\n"
   ]
  },
  {
   "cell_type": "code",
   "execution_count": null,
   "id": "ff42ba7b-1843-406a-89fa-513fd8f0d276",
   "metadata": {},
   "outputs": [],
   "source": []
  },
  {
   "cell_type": "code",
   "execution_count": null,
   "id": "f2d59e3f-4c63-4d6a-b449-1dc39b580852",
   "metadata": {},
   "outputs": [],
   "source": []
  }
 ],
 "metadata": {
  "kernelspec": {
   "display_name": "Python 3 (ipykernel)",
   "language": "python",
   "name": "python3"
  },
  "language_info": {
   "codemirror_mode": {
    "name": "ipython",
    "version": 3
   },
   "file_extension": ".py",
   "mimetype": "text/x-python",
   "name": "python",
   "nbconvert_exporter": "python",
   "pygments_lexer": "ipython3",
   "version": "3.10.13"
  }
 },
 "nbformat": 4,
 "nbformat_minor": 5
}
